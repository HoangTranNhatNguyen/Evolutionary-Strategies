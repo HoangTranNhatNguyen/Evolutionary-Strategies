{
  "nbformat": 4,
  "nbformat_minor": 0,
  "metadata": {
    "colab": {
      "name": "Evo-RL.ipynb",
      "provenance": [],
      "collapsed_sections": [],
      "authorship_tag": "ABX9TyPf3iipJoJdZnf1ukCcWXmz",
      "include_colab_link": true
    },
    "kernelspec": {
      "name": "python3",
      "display_name": "Python 3"
    },
    "accelerator": "GPU"
  },
  "cells": [
    {
      "cell_type": "markdown",
      "metadata": {
        "id": "view-in-github",
        "colab_type": "text"
      },
      "source": [
        "<a href=\"https://colab.research.google.com/github/HoangTranNhatNguyen/Evolutionary-Strategies/blob/main/Evo-RL.ipynb\" target=\"_parent\"><img src=\"https://colab.research.google.com/assets/colab-badge.svg\" alt=\"Open In Colab\"/></a>"
      ]
    },
    {
      "cell_type": "markdown",
      "metadata": {
        "id": "iRLizhNGIKoD"
      },
      "source": [
        "# Import necessary packages"
      ]
    },
    {
      "cell_type": "code",
      "metadata": {
        "colab": {
          "base_uri": "https://localhost:8080/"
        },
        "id": "ltBkNP9qIVjo",
        "outputId": "67f1866a-e13f-445b-f8f2-c69dad6b8a91"
      },
      "source": [
        "!pip install gym"
      ],
      "execution_count": 1,
      "outputs": [
        {
          "output_type": "stream",
          "text": [
            "Requirement already satisfied: gym in /usr/local/lib/python3.6/dist-packages (0.17.3)\n",
            "Requirement already satisfied: pyglet<=1.5.0,>=1.4.0 in /usr/local/lib/python3.6/dist-packages (from gym) (1.5.0)\n",
            "Requirement already satisfied: numpy>=1.10.4 in /usr/local/lib/python3.6/dist-packages (from gym) (1.18.5)\n",
            "Requirement already satisfied: cloudpickle<1.7.0,>=1.2.0 in /usr/local/lib/python3.6/dist-packages (from gym) (1.3.0)\n",
            "Requirement already satisfied: scipy in /usr/local/lib/python3.6/dist-packages (from gym) (1.4.1)\n",
            "Requirement already satisfied: future in /usr/local/lib/python3.6/dist-packages (from pyglet<=1.5.0,>=1.4.0->gym) (0.16.0)\n"
          ],
          "name": "stdout"
        }
      ]
    },
    {
      "cell_type": "code",
      "metadata": {
        "id": "NrxCBKpEIIdH"
      },
      "source": [
        "import gym\n",
        "import torch\n",
        "from es import Normal, Expectation, normalize"
      ],
      "execution_count": 2,
      "outputs": []
    },
    {
      "cell_type": "markdown",
      "metadata": {
        "id": "5GkB74dVKZd4"
      },
      "source": [
        "# Define evolve method"
      ]
    },
    {
      "cell_type": "code",
      "metadata": {
        "id": "ssRK68WwIDA_"
      },
      "source": [
        "def simulate_single(weights):\n",
        "    total_reward = 0.0\n",
        "    num_run = 10\n",
        "    for t in range(num_run):\n",
        "        observation = env.reset()\n",
        "        observation = torch.tensor(observation, dtype=torch.float32, device='cuda')\n",
        "        for i in range(300):\n",
        "            action = 1 if weights @ observation > 0 else 0\n",
        "            observation, reward, done, info = env.step(action)\n",
        "            observation = torch.tensor(observation, dtype=torch.float32, device='cuda')\n",
        "            total_reward += reward\n",
        "            if done:\n",
        "                break\n",
        "    return total_reward / num_run\n",
        "\n",
        "def simulate(batch_weights):\n",
        "    rewards = []\n",
        "    for weights in batch_weights:\n",
        "        rewards.append(simulate_single(weights))\n",
        "    return torch.tensor(rewards, dtype=torch.float32, device='cuda')"
      ],
      "execution_count": 3,
      "outputs": []
    },
    {
      "cell_type": "markdown",
      "metadata": {
        "id": "QoDGEPbmKepv"
      },
      "source": [
        "# Set up hyper-parameters"
      ]
    },
    {
      "cell_type": "code",
      "metadata": {
        "id": "TWynHG6AIi86"
      },
      "source": [
        "mu = torch.randn(4, requires_grad=True, device='cuda')  # population mean\n",
        "std = torch.full(mu.shape, 0.5, requires_grad=True, device='cuda') # population standard deviation\n",
        "npop = 50  # population size\n",
        "\n",
        "normal = Normal(mu.device)\n",
        "optimizer = torch.optim.Adam([mu, std], lr=0.03)\n",
        "expectation = Expectation()\n",
        "env = gym.make(\"CartPole-v0\")"
      ],
      "execution_count": 31,
      "outputs": []
    },
    {
      "cell_type": "markdown",
      "metadata": {
        "id": "sOWyjEdWKooO"
      },
      "source": [
        "# Start the evolutionary process"
      ]
    },
    {
      "cell_type": "code",
      "metadata": {
        "colab": {
          "base_uri": "https://localhost:8080/"
        },
        "id": "5SE12HqGJsR0",
        "outputId": "d2cd2b2c-b3ef-41a5-e9d1-936fda46d9bd"
      },
      "source": [
        "for t in range(100):\n",
        "    theta, ratio = normal(mu,std,npop)\n",
        "    score = simulate(theta)\n",
        "    mean = expectation(normalize(-score), ratio)\n",
        "    \n",
        "    optimizer.zero_grad()\n",
        "    mean.backward()\n",
        "    optimizer.step()\n",
        "\n",
        "    print(\"step: {}, mean fitness: {:0.5}\".format(t, float(score.mean())))"
      ],
      "execution_count": null,
      "outputs": [
        {
          "output_type": "stream",
          "text": [
            "step: 0, mean fitness: 123.09\n",
            "step: 1, mean fitness: 139.55\n",
            "step: 2, mean fitness: 137.19\n",
            "step: 3, mean fitness: 146.32\n",
            "step: 4, mean fitness: 148.7\n",
            "step: 5, mean fitness: 143.14\n",
            "step: 6, mean fitness: 151.09\n",
            "step: 7, mean fitness: 146.68\n",
            "step: 8, mean fitness: 160.0\n",
            "step: 9, mean fitness: 166.1\n",
            "step: 10, mean fitness: 169.96\n",
            "step: 11, mean fitness: 166.37\n",
            "step: 12, mean fitness: 173.75\n",
            "step: 13, mean fitness: 165.18\n",
            "step: 14, mean fitness: 173.2\n",
            "step: 15, mean fitness: 179.18\n",
            "step: 16, mean fitness: 178.36\n",
            "step: 17, mean fitness: 186.2\n",
            "step: 18, mean fitness: 190.74\n",
            "step: 19, mean fitness: 190.15\n",
            "step: 20, mean fitness: 192.47\n",
            "step: 21, mean fitness: 197.09\n",
            "step: 22, mean fitness: 198.32\n",
            "step: 23, mean fitness: 198.76\n",
            "step: 24, mean fitness: 199.48\n",
            "step: 25, mean fitness: 200.0\n",
            "step: 26, mean fitness: 200.0\n",
            "step: 27, mean fitness: 200.0\n",
            "step: 28, mean fitness: 199.9\n",
            "step: 29, mean fitness: 200.0\n",
            "step: 30, mean fitness: 200.0\n",
            "step: 31, mean fitness: 200.0\n",
            "step: 32, mean fitness: 200.0\n",
            "step: 33, mean fitness: 200.0\n",
            "step: 34, mean fitness: 200.0\n",
            "step: 35, mean fitness: 200.0\n"
          ],
          "name": "stdout"
        }
      ]
    }
  ]
}